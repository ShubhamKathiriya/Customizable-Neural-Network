{
 "cells": [
  {
   "cell_type": "markdown",
   "id": "7c09ea1a",
   "metadata": {
    "_cell_guid": "e8584f9d-84d1-4bd0-848f-69378ad82184",
    "_uuid": "fa011502-958c-4cc3-95e5-7aa197a22733",
    "collapsed": false,
    "jupyter": {
     "outputs_hidden": false
    },
    "papermill": {
     "duration": 0.013383,
     "end_time": "2024-11-05T17:41:28.441034",
     "exception": false,
     "start_time": "2024-11-05T17:41:28.427651",
     "status": "completed"
    },
    "tags": []
   },
   "source": [
    "<div class=\"alert alert-block alert-success\" style=\"font-size:20px;\">\n",
    "\n",
    "    NEURAL NETWORK FROM SCRATCH (TRAINING + REGULARIZATION + TESTING)\n",
    "\n",
    "</div>"
   ]
  },
  {
   "cell_type": "markdown",
   "id": "9391d580",
   "metadata": {
    "papermill": {
     "duration": 0.013819,
     "end_time": "2024-11-05T17:41:28.467817",
     "exception": false,
     "start_time": "2024-11-05T17:41:28.453998",
     "status": "completed"
    },
    "tags": []
   },
   "source": [
    "<div class=\"alert alert-block alert-danger\">\n",
    "\n",
    "\n",
    "\n",
    "Paramters and Constants</div>"
   ]
  },
  {
   "cell_type": "code",
   "execution_count": 1,
   "id": "89a9aa31",
   "metadata": {
    "execution": {
     "iopub.execute_input": "2024-11-05T17:41:28.495126Z",
     "iopub.status.busy": "2024-11-05T17:41:28.494650Z",
     "iopub.status.idle": "2024-11-05T17:41:28.510389Z",
     "shell.execute_reply": "2024-11-05T17:41:28.509059Z"
    },
    "papermill": {
     "duration": 0.032662,
     "end_time": "2024-11-05T17:41:28.513611",
     "exception": false,
     "start_time": "2024-11-05T17:41:28.480949",
     "status": "completed"
    },
    "tags": []
   },
   "outputs": [],
   "source": [
    "class config:\n",
    "\n",
    "    # samples \n",
    "    train_samples = 10000\n",
    "    validation_samples = 1000\n",
    "    test_samples = 2000\n",
    "    \n",
    "    num_classes = 3\n",
    "\n",
    "\n",
    "    output_clip = 1e-7\n",
    "\n",
    "    input_dim = 2\n",
    "\n",
    "    hidden_1_dim = 64\n",
    "\n",
    "\n",
    "\n",
    "    weight_regularizer_l1=0\n",
    "    bias_regularizer_l1=0\n",
    "    weight_regularizer_l2=5e-4\n",
    "    bias_regularizer_l2=5e-4\n",
    "\n",
    "\n",
    "    weight_initiase_factor = 0.01\n",
    "\n",
    "\n",
    "    dropout_rate = 0.1\n",
    "\n",
    "    learning_rate=0.05\n",
    "    decay=5e-5\n",
    "    epsilon=1e-7\n",
    "\n",
    "    # rms_prop setting\n",
    "    rho = 0.9\n",
    "\n",
    "    # adam_setting\n",
    "    beta_1=0.9\n",
    "    beta_2=0.999\n",
    "\n",
    "\n",
    "\n",
    "    epochs = 10001\n",
    "    log_step = 100"
   ]
  },
  {
   "cell_type": "markdown",
   "id": "743c1a3e",
   "metadata": {
    "_cell_guid": "9554413d-b36a-4c0a-a4d9-092d87d5562f",
    "_uuid": "f18dac4a-8f76-4072-9ed8-4e7698a1dd45",
    "collapsed": false,
    "jupyter": {
     "outputs_hidden": false
    },
    "papermill": {
     "duration": 0.01259,
     "end_time": "2024-11-05T17:41:28.539474",
     "exception": false,
     "start_time": "2024-11-05T17:41:28.526884",
     "status": "completed"
    },
    "tags": []
   },
   "source": [
    "<div class=\"alert alert-block alert-danger\">\n",
    "\n",
    "\n",
    "\n",
    "LOADING THE DATASET</div>"
   ]
  },
  {
   "cell_type": "code",
   "execution_count": 2,
   "id": "0383b022",
   "metadata": {
    "_cell_guid": "14f0f233-030a-4a32-8b1d-7c948c17f12c",
    "_uuid": "9e7d6fd5-3cdc-4ede-9e3c-bf976099bd6f",
    "collapsed": false,
    "execution": {
     "iopub.execute_input": "2024-11-05T17:41:28.565963Z",
     "iopub.status.busy": "2024-11-05T17:41:28.565529Z",
     "iopub.status.idle": "2024-11-05T17:41:45.322873Z",
     "shell.execute_reply": "2024-11-05T17:41:45.321586Z"
    },
    "jupyter": {
     "outputs_hidden": false
    },
    "papermill": {
     "duration": 16.774242,
     "end_time": "2024-11-05T17:41:45.326007",
     "exception": false,
     "start_time": "2024-11-05T17:41:28.551765",
     "status": "completed"
    },
    "tags": []
   },
   "outputs": [
    {
     "name": "stdout",
     "output_type": "stream",
     "text": [
      "Collecting nnfs\r\n",
      "  Downloading nnfs-0.5.1-py3-none-any.whl.metadata (1.7 kB)\r\n",
      "Requirement already satisfied: numpy in /opt/conda/lib/python3.10/site-packages (from nnfs) (1.26.4)\r\n",
      "Downloading nnfs-0.5.1-py3-none-any.whl (9.1 kB)\r\n",
      "Installing collected packages: nnfs\r\n",
      "Successfully installed nnfs-0.5.1\r\n"
     ]
    }
   ],
   "source": [
    "!pip install nnfs"
   ]
  },
  {
   "cell_type": "code",
   "execution_count": 3,
   "id": "44ee9dd3",
   "metadata": {
    "_cell_guid": "08d7d493-44f8-4562-aeb4-0dd7c2b25ca9",
    "_uuid": "70ab1cde-46ba-4b6e-868e-149a3d4b5259",
    "collapsed": false,
    "execution": {
     "iopub.execute_input": "2024-11-05T17:41:45.353999Z",
     "iopub.status.busy": "2024-11-05T17:41:45.353554Z",
     "iopub.status.idle": "2024-11-05T17:41:45.366237Z",
     "shell.execute_reply": "2024-11-05T17:41:45.364916Z"
    },
    "jupyter": {
     "outputs_hidden": false
    },
    "papermill": {
     "duration": 0.030376,
     "end_time": "2024-11-05T17:41:45.369275",
     "exception": false,
     "start_time": "2024-11-05T17:41:45.338899",
     "status": "completed"
    },
    "tags": []
   },
   "outputs": [],
   "source": [
    "import numpy as np\n",
    "import nnfs\n",
    "from nnfs.datasets import spiral_data\n",
    "nnfs.init()"
   ]
  },
  {
   "cell_type": "markdown",
   "id": "d42d7079",
   "metadata": {
    "_cell_guid": "bfce809e-e7a8-46cc-bd51-da3021b1265d",
    "_uuid": "044a5b21-e7f7-477c-952e-b66b27171e2b",
    "collapsed": false,
    "jupyter": {
     "outputs_hidden": false
    },
    "papermill": {
     "duration": 0.012351,
     "end_time": "2024-11-05T17:41:45.395224",
     "exception": false,
     "start_time": "2024-11-05T17:41:45.382873",
     "status": "completed"
    },
    "tags": []
   },
   "source": [
    "<div class=\"alert alert-block alert-danger\">\n",
    "\n",
    "\n",
    "\n",
    "PLOTTING THE DATASET</div>"
   ]
  },
  {
   "cell_type": "code",
   "execution_count": 4,
   "id": "afd23abc",
   "metadata": {
    "_cell_guid": "f3b703c0-478c-4f51-88cf-49959d3cee85",
    "_uuid": "e419e810-39da-4809-9167-67b928766aff",
    "collapsed": false,
    "execution": {
     "iopub.execute_input": "2024-11-05T17:41:45.423032Z",
     "iopub.status.busy": "2024-11-05T17:41:45.422609Z",
     "iopub.status.idle": "2024-11-05T17:41:45.786341Z",
     "shell.execute_reply": "2024-11-05T17:41:45.785141Z"
    },
    "jupyter": {
     "outputs_hidden": false
    },
    "papermill": {
     "duration": 0.381232,
     "end_time": "2024-11-05T17:41:45.789608",
     "exception": false,
     "start_time": "2024-11-05T17:41:45.408376",
     "status": "completed"
    },
    "tags": []
   },
   "outputs": [
    {
     "data": {
      "image/png": "[encoded data removed]",
      "text/plain": [
       "<Figure size 640x480 with 1 Axes>"
      ]
     },
     "metadata": {},
     "output_type": "display_data"
    }
   ],
   "source": [
    "import matplotlib.pyplot as plt\n",
    "\n",
    "X, y = spiral_data(samples=100, classes=config.num_classes)\n",
    "plt.scatter(X[:, 0], X[:, 1], c=y, cmap='brg')\n",
    "plt.show()"
   ]
  },
  {
   "cell_type": "markdown",
   "id": "576535af",
   "metadata": {
    "_cell_guid": "5fc6f241-c867-4e38-b096-35ae14ca0d69",
    "_uuid": "5ded7182-8333-41aa-aec5-b6aa7083c92f",
    "collapsed": false,
    "jupyter": {
     "outputs_hidden": false
    },
    "papermill": {
     "duration": 0.013675,
     "end_time": "2024-11-05T17:41:45.817499",
     "exception": false,
     "start_time": "2024-11-05T17:41:45.803824",
     "status": "completed"
    },
    "tags": []
   },
   "source": [
    "<div class=\"alert alert-block alert-danger\">\n",
    "\n",
    "\n",
    "\n",
    "CREATING LAYERS: FORWARD AND BACKWARD PASS</div>"
   ]
  },
  {
   "cell_type": "code",
   "execution_count": 5,
   "id": "c7de0665",
   "metadata": {
    "_cell_guid": "7f8e8c00-8d99-49c6-aea8-e9dba25b5454",
    "_uuid": "c61168fa-56d9-40c0-ac24-9dd848191dbc",
    "collapsed": false,
    "execution": {
     "iopub.execute_input": "2024-11-05T17:41:45.846690Z",
     "iopub.status.busy": "2024-11-05T17:41:45.846239Z",
     "iopub.status.idle": "2024-11-05T17:41:45.861069Z",
     "shell.execute_reply": "2024-11-05T17:41:45.859828Z"
    },
    "jupyter": {
     "outputs_hidden": false
    },
    "papermill": {
     "duration": 0.032979,
     "end_time": "2024-11-05T17:41:45.864053",
     "exception": false,
     "start_time": "2024-11-05T17:41:45.831074",
     "status": "completed"
    },
    "tags": []
   },
   "outputs": [],
   "source": [
    "class Layer_Dense:\n",
    "\n",
    "    def __init__(self, n_inputs, n_neurons, weight_regularizer_l1=0, weight_regularizer_l2=0, bias_regularizer_l1=0, bias_regularizer_l2=0):\n",
    "\n",
    "        # Initialize weights and biases\n",
    "        self.weights = config.weight_initiase_factor* np.random.randn(n_inputs, n_neurons)\n",
    "        self.biases = np.zeros((1, n_neurons))\n",
    "\n",
    "        # Set regularization strength\n",
    "        self.weight_regularizer_l1 = weight_regularizer_l1\n",
    "        self.weight_regularizer_l2 = weight_regularizer_l2\n",
    "        self.bias_regularizer_l1 = bias_regularizer_l1\n",
    "        self.bias_regularizer_l2 = bias_regularizer_l2\n",
    "\n",
    "    def forward(self, inputs):\n",
    "        self.inputs = inputs\n",
    "        self.output = np.dot(inputs, self.weights) + self.biases\n",
    "\n",
    "    def backward(self, dvalues):\n",
    "\n",
    "        self.dweights = np.dot(self.inputs.T, dvalues)\n",
    "        self.dbiases = np.sum(dvalues, axis=0, keepdims=True)\n",
    "\n",
    "        # Gradients on regularization\n",
    "        # L1 on weights\n",
    "        if self.weight_regularizer_l1 > 0:\n",
    "            dL1 = np.ones_like(self.weights)\n",
    "            dL1[self.weights < 0] = -1\n",
    "            self.dweights += self.weight_regularizer_l1 * dL1\n",
    "\n",
    "        # L2 on weights\n",
    "        if self.weight_regularizer_l2 > 0:\n",
    "            self.dweights += 2 * self.weight_regularizer_l2 * self.weights\n",
    "\n",
    "        # L1 on biases\n",
    "        if self.bias_regularizer_l1 > 0:\n",
    "            dL1 = np.ones_like(self.biases)\n",
    "            dL1[self.biases < 0] = -1\n",
    "            self.dbiases += self.bias_regularizer_l1 * dL1\n",
    "\n",
    "        # L2 on biases\n",
    "        if self.bias_regularizer_l2 > 0:\n",
    "            self.dbiases += 2 * self.bias_regularizer_l2 * self.biases\n",
    "\n",
    "        self.dinputs = np.dot(dvalues, self.weights.T)"
   ]
  },
  {
   "cell_type": "markdown",
   "id": "7597486c",
   "metadata": {
    "_cell_guid": "2318703e-da7f-4d31-b04e-8ee6bffef3bc",
    "_uuid": "63620996-4e4a-4033-a4e1-7a9ec6c42c85",
    "collapsed": false,
    "jupyter": {
     "outputs_hidden": false
    },
    "papermill": {
     "duration": 0.013407,
     "end_time": "2024-11-05T17:41:45.891187",
     "exception": false,
     "start_time": "2024-11-05T17:41:45.877780",
     "status": "completed"
    },
    "tags": []
   },
   "source": [
    "<div class=\"alert alert-block alert-danger\">\n",
    "\n",
    "\n",
    "\n",
    "RELU ACTIVATION: FORWARD AND BACKWARD PASS</div>"
   ]
  },
  {
   "cell_type": "code",
   "execution_count": 6,
   "id": "7c7b3049",
   "metadata": {
    "_cell_guid": "e9769f48-6b8e-4572-899e-064b5e038895",
    "_uuid": "80a0c33a-b968-4630-8148-5093e612996f",
    "collapsed": false,
    "execution": {
     "iopub.execute_input": "2024-11-05T17:41:45.920322Z",
     "iopub.status.busy": "2024-11-05T17:41:45.919894Z",
     "iopub.status.idle": "2024-11-05T17:41:45.926744Z",
     "shell.execute_reply": "2024-11-05T17:41:45.925531Z"
    },
    "jupyter": {
     "outputs_hidden": false
    },
    "papermill": {
     "duration": 0.025035,
     "end_time": "2024-11-05T17:41:45.929922",
     "exception": false,
     "start_time": "2024-11-05T17:41:45.904887",
     "status": "completed"
    },
    "tags": []
   },
   "outputs": [],
   "source": [
    "class Activation_ReLU:\n",
    "\n",
    "    def forward(self, inputs):\n",
    "        self.inputs = inputs\n",
    "        self.output = np.maximum(0, inputs)\n",
    "\n",
    "    def backward(self, dvalues):\n",
    "        self.dinputs = dvalues.copy()\n",
    "        self.dinputs[self.inputs <= 0] = 0"
   ]
  },
  {
   "cell_type": "markdown",
   "id": "e1992354",
   "metadata": {
    "_cell_guid": "e1d1f596-dd3d-448b-943f-bd3ca6a21413",
    "_uuid": "9d48273a-4643-497f-85fe-7adfca0b3016",
    "collapsed": false,
    "jupyter": {
     "outputs_hidden": false
    },
    "papermill": {
     "duration": 0.014177,
     "end_time": "2024-11-05T17:41:45.957814",
     "exception": false,
     "start_time": "2024-11-05T17:41:45.943637",
     "status": "completed"
    },
    "tags": []
   },
   "source": [
    "<div class=\"alert alert-block alert-danger\">\n",
    "\n",
    "\n",
    "\n",
    "SOFTMAX ACTIVATION: FORWARD PASS</div>"
   ]
  },
  {
   "cell_type": "code",
   "execution_count": 7,
   "id": "837aa6d8",
   "metadata": {
    "_cell_guid": "1b319616-7fcb-4ee3-abf5-ca6a0253b0aa",
    "_uuid": "63d422a9-b7c9-4404-97bb-e504cbce27e0",
    "collapsed": false,
    "execution": {
     "iopub.execute_input": "2024-11-05T17:41:45.987487Z",
     "iopub.status.busy": "2024-11-05T17:41:45.987030Z",
     "iopub.status.idle": "2024-11-05T17:41:45.994032Z",
     "shell.execute_reply": "2024-11-05T17:41:45.992756Z"
    },
    "jupyter": {
     "outputs_hidden": false
    },
    "papermill": {
     "duration": 0.025201,
     "end_time": "2024-11-05T17:41:45.996822",
     "exception": false,
     "start_time": "2024-11-05T17:41:45.971621",
     "status": "completed"
    },
    "tags": []
   },
   "outputs": [],
   "source": [
    "class Activation_Softmax:\n",
    "    \n",
    "    def forward(self, inputs):\n",
    "        exp_values = np.exp(inputs - np.max(inputs, axis=1, keepdims=True))\n",
    "        probabilities = exp_values / np.sum(exp_values, axis=1,keepdims=True)\n",
    "        self.output = probabilities"
   ]
  },
  {
   "cell_type": "markdown",
   "id": "87c8f62b",
   "metadata": {
    "_cell_guid": "4584dee6-05e6-4615-81c7-1c4721e1be8b",
    "_uuid": "6fca68c5-d1c7-4399-a2fb-e1062c5350cd",
    "collapsed": false,
    "jupyter": {
     "outputs_hidden": false
    },
    "papermill": {
     "duration": 0.013747,
     "end_time": "2024-11-05T17:41:46.024846",
     "exception": false,
     "start_time": "2024-11-05T17:41:46.011099",
     "status": "completed"
    },
    "tags": []
   },
   "source": [
    "<div class=\"alert alert-block alert-danger\">\n",
    "\n",
    "LOSS CLASS </div>"
   ]
  },
  {
   "cell_type": "code",
   "execution_count": 8,
   "id": "336e0875",
   "metadata": {
    "_cell_guid": "7bb92964-b922-4de8-82c7-5edb780393bf",
    "_uuid": "ebca05d6-3eec-430e-84c4-0d11aade3de3",
    "collapsed": false,
    "execution": {
     "iopub.execute_input": "2024-11-05T17:41:46.054478Z",
     "iopub.status.busy": "2024-11-05T17:41:46.054035Z",
     "iopub.status.idle": "2024-11-05T17:41:46.064163Z",
     "shell.execute_reply": "2024-11-05T17:41:46.063034Z"
    },
    "jupyter": {
     "outputs_hidden": false
    },
    "papermill": {
     "duration": 0.027895,
     "end_time": "2024-11-05T17:41:46.066670",
     "exception": false,
     "start_time": "2024-11-05T17:41:46.038775",
     "status": "completed"
    },
    "tags": []
   },
   "outputs": [],
   "source": [
    "# Common loss class\n",
    "\n",
    "class Loss:\n",
    "\n",
    "    # Regularization loss calculation\n",
    "    def regularization_loss(self, layer):\n",
    "\n",
    "        regularization_loss = 0\n",
    "\n",
    "        # L1 regularization - weights\n",
    "        if layer.weight_regularizer_l1 > 0:\n",
    "            regularization_loss += layer.weight_regularizer_l1 * np.sum(np.abs(layer.weights))\n",
    "\n",
    "        # L2 regularization - weights\n",
    "        if layer.weight_regularizer_l2 > 0:\n",
    "\n",
    "            regularization_loss += layer.weight_regularizer_l2 * np.sum(layer.weights * layer.weights)\n",
    "\n",
    "        # L1 regularization - biases\n",
    "        if layer.bias_regularizer_l1 > 0:\n",
    "            regularization_loss += layer.bias_regularizer_l1 * np.sum(np.abs(layer.biases))\n",
    "\n",
    "        # L2 regularization - biases\n",
    "        if layer.bias_regularizer_l2 > 0:\n",
    "            regularization_loss += layer.bias_regularizer_l2 * np.sum(layer.biases * layer.biases)\n",
    "\n",
    "        return regularization_loss\n",
    "\n",
    "\n",
    "\n",
    "    # Calculates the data and regularization losses given model output and ground truth values\n",
    "    def calculate(self, output, y):\n",
    "        sample_losses = self.forward(output, y)\n",
    "        data_loss = np.mean(sample_losses)\n",
    "        return data_loss"
   ]
  },
  {
   "cell_type": "markdown",
   "id": "fdcdd06d",
   "metadata": {
    "_cell_guid": "fa7a32f5-daf4-499d-9fe0-8c0e8ec73a09",
    "_uuid": "c1d61100-548e-4c18-9aa3-36192649c604",
    "collapsed": false,
    "jupyter": {
     "outputs_hidden": false
    },
    "papermill": {
     "duration": 0.013482,
     "end_time": "2024-11-05T17:41:46.093987",
     "exception": false,
     "start_time": "2024-11-05T17:41:46.080505",
     "status": "completed"
    },
    "tags": []
   },
   "source": [
    "<div class=\"alert alert-block alert-danger\">\n",
    "\n",
    "\n",
    "\n",
    "CATEGORICAL CROSS ENTROPY LOSS: FORWARD AND BACKWARD PASS</div>"
   ]
  },
  {
   "cell_type": "code",
   "execution_count": 9,
   "id": "3cf519f5",
   "metadata": {
    "_cell_guid": "560fa1fd-27a3-4b3e-b82c-f2e27f674eac",
    "_uuid": "401cf384-ea43-49d4-8fcb-1b98af6f48aa",
    "collapsed": false,
    "execution": {
     "iopub.execute_input": "2024-11-05T17:41:46.123292Z",
     "iopub.status.busy": "2024-11-05T17:41:46.122866Z",
     "iopub.status.idle": "2024-11-05T17:41:46.133442Z",
     "shell.execute_reply": "2024-11-05T17:41:46.132147Z"
    },
    "jupyter": {
     "outputs_hidden": false
    },
    "papermill": {
     "duration": 0.02854,
     "end_time": "2024-11-05T17:41:46.136280",
     "exception": false,
     "start_time": "2024-11-05T17:41:46.107740",
     "status": "completed"
    },
    "tags": []
   },
   "outputs": [],
   "source": [
    "class Loss_CategoricalCrossentropy(Loss):\n",
    "\n",
    "    def forward(self, y_pred, y_true):\n",
    "        samples = len(y_pred)\n",
    "\n",
    "        # Clip data to prevent division by 0\n",
    "        # Clip both sides to not drag mean towards any value\n",
    "\n",
    "        y_pred_clipped = np.clip(y_pred, config.output_clip , 1 - config.output_clip)\n",
    "\n",
    "        # Probabilities for target values - only if categorical labels        \n",
    "        if len(y_true.shape) == 1:\n",
    "            correct_confidences = y_pred_clipped[ range(samples),y_true]\n",
    "\n",
    "        # Mask values - only for one-hot encoded labels\n",
    "        elif len(y_true.shape) == 2:\n",
    "            correct_confidences = np.sum( y_pred_clipped * y_true,axis=1)\n",
    "\n",
    "        \n",
    "        negative_log_likelihoods = -np.log(correct_confidences)\n",
    "        return negative_log_likelihoods\n",
    "\n",
    "\n",
    "    # Backward pass\n",
    "    def backward(self, dvalues, y_true):\n",
    "        samples = len(dvalues)\n",
    "        labels = len(dvalues[0])\n",
    "\n",
    "\n",
    "        if len(y_true.shape) == 1:\n",
    "            y_true = np.eye(labels)[y_true]\n",
    "\n",
    "        # Calculate gradient\n",
    "        self.dinputs = -y_true / dvalues\n",
    "\n",
    "        # Normalize gradient\n",
    "        self.dinputs = self.dinputs / samples"
   ]
  },
  {
   "cell_type": "markdown",
   "id": "1b4db74a",
   "metadata": {
    "_cell_guid": "892ed6a8-9487-4579-9e1a-d0ec97444b47",
    "_uuid": "344d6736-d820-4506-b0b1-5abbf87bc138",
    "collapsed": false,
    "jupyter": {
     "outputs_hidden": false
    },
    "papermill": {
     "duration": 0.013531,
     "end_time": "2024-11-05T17:41:46.163765",
     "exception": false,
     "start_time": "2024-11-05T17:41:46.150234",
     "status": "completed"
    },
    "tags": []
   },
   "source": [
    "<div class=\"alert alert-block alert-danger\">\n",
    "\n",
    "\n",
    "\n",
    "COMBINED SOFTMAX ACTIVATION AND CATEGORICAL CROSS ENTROPY FOR LAST LAYER: FORWARD AND BACKWARD PASS</div>"
   ]
  },
  {
   "cell_type": "code",
   "execution_count": 10,
   "id": "352717ee",
   "metadata": {
    "_cell_guid": "0e274f8c-3a22-4e50-9a3e-981bdd5ae06c",
    "_uuid": "e53f055d-a40c-497f-a9d6-234386d11160",
    "collapsed": false,
    "execution": {
     "iopub.execute_input": "2024-11-05T17:41:46.193751Z",
     "iopub.status.busy": "2024-11-05T17:41:46.192919Z",
     "iopub.status.idle": "2024-11-05T17:41:46.203032Z",
     "shell.execute_reply": "2024-11-05T17:41:46.201631Z"
    },
    "jupyter": {
     "outputs_hidden": false
    },
    "papermill": {
     "duration": 0.028018,
     "end_time": "2024-11-05T17:41:46.205595",
     "exception": false,
     "start_time": "2024-11-05T17:41:46.177577",
     "status": "completed"
    },
    "tags": []
   },
   "outputs": [],
   "source": [
    "# Softmax classifier - combined Softmax activation and cross-entropy loss for faster backward step\n",
    "\n",
    "\n",
    "class Activation_Softmax_Loss_CategoricalCrossentropy:\n",
    "\n",
    "    def __init__(self):\n",
    "        self.activation = Activation_Softmax()\n",
    "        self.loss = Loss_CategoricalCrossentropy()\n",
    "\n",
    "    def forward(self, inputs, y_true):\n",
    "\n",
    "        # Output layer's activation function\n",
    "        self.activation.forward(inputs)\n",
    "\n",
    "        # Set the output\n",
    "        self.output = self.activation.output\n",
    "\n",
    "        # Calculate and return loss value\n",
    "        return self.loss.calculate(self.output, y_true)\n",
    "\n",
    "    \n",
    "    def backward(self, dvalues, y_true):\n",
    "        \n",
    "        # Number of samples\n",
    "        samples = len(dvalues)\n",
    "\n",
    "        # If labels are one-hot encoded, turn them into discrete values\n",
    "\n",
    "        if len(y_true.shape) == 2:\n",
    "            y_true = np.argmax(y_true, axis=1)\n",
    "\n",
    "        self.dinputs = dvalues.copy()\n",
    "        self.dinputs[range(samples), y_true] -= 1\n",
    "\n",
    "        # Normalize gradient\n",
    "        self.dinputs = self.dinputs / samples"
   ]
  },
  {
   "cell_type": "markdown",
   "id": "9d1bcdae",
   "metadata": {
    "papermill": {
     "duration": 0.013586,
     "end_time": "2024-11-05T17:41:46.233622",
     "exception": false,
     "start_time": "2024-11-05T17:41:46.220036",
     "status": "completed"
    },
    "tags": []
   },
   "source": [
    "<div class=\"alert alert-block alert-danger\">\n",
    "\n",
    "\n",
    "\n",
    "SGD OPTIMIZER WITH LEARNING RATE DECAY and MOMENTUM </div>"
   ]
  },
  {
   "cell_type": "code",
   "execution_count": 11,
   "id": "7d5321d8",
   "metadata": {
    "execution": {
     "iopub.execute_input": "2024-11-05T17:41:46.263691Z",
     "iopub.status.busy": "2024-11-05T17:41:46.263212Z",
     "iopub.status.idle": "2024-11-05T17:41:46.276526Z",
     "shell.execute_reply": "2024-11-05T17:41:46.275264Z"
    },
    "papermill": {
     "duration": 0.031312,
     "end_time": "2024-11-05T17:41:46.279327",
     "exception": false,
     "start_time": "2024-11-05T17:41:46.248015",
     "status": "completed"
    },
    "tags": []
   },
   "outputs": [],
   "source": [
    "import numpy as np\n",
    "\n",
    "class Optimizer_SGD_with_Momentum:\n",
    "    \n",
    "    def __init__(self, learning_rate=1., decay=0., momentum=0.):\n",
    "        self.learning_rate = learning_rate\n",
    "        self.current_learning_rate = learning_rate\n",
    "        self.decay = decay\n",
    "        self.iterations = 0\n",
    "        self.momentum = momentum\n",
    "\n",
    "    def pre_update_params(self):\n",
    "        if self.decay:\n",
    "            self.current_learning_rate = self.learning_rate * (1. / (1. + self.decay * self.iterations))\n",
    "\n",
    "    def update_params(self, layer):\n",
    "\n",
    "        if self.momentum:\n",
    "            # If layer does not contain momentum arrays, create them filled with zeros\n",
    "            if not hasattr(layer, 'weight_momentums'):\n",
    "                layer.weight_momentums = np.zeros_like(layer.weights)\n",
    "                layer.bias_momentums = np.zeros_like(layer.biases)\n",
    "\n",
    "            \n",
    "            weight_updates = self.momentum * layer.weight_momentums - self.current_learning_rate * layer.dweights\n",
    "            layer.weight_momentums = weight_updates\n",
    "\n",
    "            bias_updates = self.momentum * layer.bias_momentums - self.current_learning_rate * layer.dbiases\n",
    "            layer.bias_momentums = bias_updates\n",
    "\n",
    "        # Vanilla SGD updates (as before momentum update)\n",
    "        else:\n",
    "            weight_updates = -self.current_learning_rate * layer.dweights\n",
    "            bias_updates = -self.current_learning_rate * layer.dbiases\n",
    "\n",
    "        # Update weights and biases using either vanilla or momentum updates\n",
    "        layer.weights += weight_updates\n",
    "        layer.biases += bias_updates\n",
    "\n",
    "    def post_update_params(self):\n",
    "        self.iterations += 1\n"
   ]
  },
  {
   "cell_type": "markdown",
   "id": "5d13b113",
   "metadata": {
    "papermill": {
     "duration": 0.013713,
     "end_time": "2024-11-05T17:41:46.307454",
     "exception": false,
     "start_time": "2024-11-05T17:41:46.293741",
     "status": "completed"
    },
    "tags": []
   },
   "source": [
    "<div class=\"alert alert-block alert-danger\">\n",
    "\n",
    "\n",
    "\n",
    "Adagrad OPTIMIZER</div>"
   ]
  },
  {
   "cell_type": "code",
   "execution_count": 12,
   "id": "194ea1fd",
   "metadata": {
    "execution": {
     "iopub.execute_input": "2024-11-05T17:41:46.337787Z",
     "iopub.status.busy": "2024-11-05T17:41:46.337356Z",
     "iopub.status.idle": "2024-11-05T17:41:46.348611Z",
     "shell.execute_reply": "2024-11-05T17:41:46.347249Z"
    },
    "papermill": {
     "duration": 0.029559,
     "end_time": "2024-11-05T17:41:46.351234",
     "exception": false,
     "start_time": "2024-11-05T17:41:46.321675",
     "status": "completed"
    },
    "tags": []
   },
   "outputs": [],
   "source": [
    "class Optimizer_Adagrad:\n",
    "\n",
    "    def __init__(self, learning_rate=1., decay=0., epsilon=1e-7):\n",
    "        self.learning_rate = learning_rate\n",
    "        self.current_learning_rate = learning_rate\n",
    "        self.decay = decay\n",
    "        self.iterations = 0\n",
    "        self.epsilon = epsilon\n",
    "\n",
    "    def pre_update_params(self):\n",
    "        if self.decay:\n",
    "            self.current_learning_rate = self.learning_rate * (1. / (1. + self.decay * self.iterations))\n",
    "\n",
    "    def update_params(self, layer):\n",
    "        \n",
    "        # If layer does not contain cache arrays, create them filled with zeros\n",
    "        if not hasattr(layer, 'weight_cache'):\n",
    "            layer.weight_cache = np.zeros_like(layer.weights)\n",
    "            layer.bias_cache = np.zeros_like(layer.biases)\n",
    "\n",
    "        # Update cache with squared current gradients\n",
    "        layer.weight_cache += layer.dweights**2\n",
    "        layer.bias_cache += layer.dbiases**2\n",
    "\n",
    "        # Vanilla SGD parameter update + normalization with square rooted cache\n",
    "        layer.weights += -self.current_learning_rate * layer.dweights / (np.sqrt(layer.weight_cache) + self.epsilon)\n",
    "        layer.biases += -self.current_learning_rate * layer.dbiases / (np.sqrt(layer.bias_cache) + self.epsilon)\n",
    "\n",
    "    def post_update_params(self):\n",
    "        self.iterations += 1\n"
   ]
  },
  {
   "cell_type": "markdown",
   "id": "da07adee",
   "metadata": {
    "papermill": {
     "duration": 0.014009,
     "end_time": "2024-11-05T17:41:46.379072",
     "exception": false,
     "start_time": "2024-11-05T17:41:46.365063",
     "status": "completed"
    },
    "tags": []
   },
   "source": [
    "<div class=\"alert alert-block alert-danger\">\n",
    "\n",
    "\n",
    "\n",
    "RMSProp OPTIMIZER</div>"
   ]
  },
  {
   "cell_type": "code",
   "execution_count": 13,
   "id": "491dbeea",
   "metadata": {
    "execution": {
     "iopub.execute_input": "2024-11-05T17:41:46.408980Z",
     "iopub.status.busy": "2024-11-05T17:41:46.407776Z",
     "iopub.status.idle": "2024-11-05T17:41:46.420233Z",
     "shell.execute_reply": "2024-11-05T17:41:46.418975Z"
    },
    "papermill": {
     "duration": 0.030691,
     "end_time": "2024-11-05T17:41:46.423275",
     "exception": false,
     "start_time": "2024-11-05T17:41:46.392584",
     "status": "completed"
    },
    "tags": []
   },
   "outputs": [],
   "source": [
    "import numpy as np\n",
    "\n",
    "class Optimizer_RMSprop:\n",
    "    \n",
    "    def __init__(self, learning_rate=0.001, decay=0., epsilon=1e-7, rho=0.9):\n",
    "        self.learning_rate = learning_rate\n",
    "        self.current_learning_rate = learning_rate\n",
    "        self.decay = decay\n",
    "        self.iterations = 0\n",
    "        self.epsilon = epsilon\n",
    "        self.rho = rho\n",
    "\n",
    "    def pre_update_params(self):\n",
    "        if self.decay:\n",
    "            self.current_learning_rate = self.learning_rate * (1. / (1. + self.decay * self.iterations))\n",
    "\n",
    "    def update_params(self, layer):\n",
    "        if not hasattr(layer, 'weight_cache'):\n",
    "            layer.weight_cache = np.zeros_like(layer.weights)\n",
    "            layer.bias_cache = np.zeros_like(layer.biases)\n",
    "\n",
    "        layer.weight_cache = self.rho * layer.weight_cache + (1 - self.rho) * layer.dweights**2\n",
    "        layer.bias_cache = self.rho * layer.bias_cache + (1 - self.rho) * layer.dbiases**2\n",
    "\n",
    "        # Vanilla SGD parameter update + normalization with square rooted cache\n",
    "        layer.weights += -self.current_learning_rate * layer.dweights / (np.sqrt(layer.weight_cache) + self.epsilon)\n",
    "        layer.biases += -self.current_learning_rate * layer.dbiases / (np.sqrt(layer.bias_cache) + self.epsilon)\n",
    "\n",
    "    # Call once after any parameter updates\n",
    "    def post_update_params(self):\n",
    "        self.iterations += 1\n"
   ]
  },
  {
   "cell_type": "markdown",
   "id": "bfd5b22c",
   "metadata": {
    "_cell_guid": "dd1f670e-605c-48b6-b66b-8882ab4582ff",
    "_uuid": "0c5a28f3-3a76-4e75-b6b2-3904fecf0e4b",
    "collapsed": false,
    "jupyter": {
     "outputs_hidden": false
    },
    "papermill": {
     "duration": 0.013396,
     "end_time": "2024-11-05T17:41:46.450382",
     "exception": false,
     "start_time": "2024-11-05T17:41:46.436986",
     "status": "completed"
    },
    "tags": []
   },
   "source": [
    "<div class=\"alert alert-block alert-danger\">\n",
    "\n",
    "\n",
    "\n",
    "ADAM OPTIMIZER</div>"
   ]
  },
  {
   "cell_type": "code",
   "execution_count": 14,
   "id": "d4fd561f",
   "metadata": {
    "_cell_guid": "c876bab4-cb1d-406c-a186-ccefa92e8f47",
    "_uuid": "372a1ffd-54d3-4cf9-915e-eb8c11d6caf5",
    "collapsed": false,
    "execution": {
     "iopub.execute_input": "2024-11-05T17:41:46.480220Z",
     "iopub.status.busy": "2024-11-05T17:41:46.479348Z",
     "iopub.status.idle": "2024-11-05T17:41:46.495320Z",
     "shell.execute_reply": "2024-11-05T17:41:46.494190Z"
    },
    "jupyter": {
     "outputs_hidden": false
    },
    "papermill": {
     "duration": 0.033832,
     "end_time": "2024-11-05T17:41:46.498045",
     "exception": false,
     "start_time": "2024-11-05T17:41:46.464213",
     "status": "completed"
    },
    "tags": []
   },
   "outputs": [],
   "source": [
    "class Optimizer_Adam:\n",
    "\n",
    "    def __init__(self, learning_rate=0.001, decay=0., epsilon=1e-7, beta_1=0.9, beta_2=0.999):\n",
    "\n",
    "        self.learning_rate = learning_rate\n",
    "        self.current_learning_rate = learning_rate\n",
    "        self.decay = decay\n",
    "        self.iterations = 0\n",
    "        self.epsilon = epsilon\n",
    "        self.beta_1 = beta_1\n",
    "        self.beta_2 = beta_2\n",
    "\n",
    "\n",
    "    def pre_update_params(self):\n",
    "\n",
    "        if self.decay:\n",
    "            self.current_learning_rate = self.learning_rate * (1. / (1. + self.decay * self.iterations))\n",
    "\n",
    "\n",
    "    def update_params(self, layer):\n",
    "\n",
    "        # If layer does not contain cache arrays, create them filled with zeros\n",
    "        if not hasattr(layer, 'weight_cache'):\n",
    "\n",
    "            layer.weight_momentums = np.zeros_like(layer.weights)\n",
    "            layer.weight_cache = np.zeros_like(layer.weights)\n",
    "            layer.bias_momentums = np.zeros_like(layer.biases)\n",
    "            layer.bias_cache = np.zeros_like(layer.biases)\n",
    "\n",
    "\n",
    "\n",
    "        # Update momentum with current gradients\n",
    "        layer.weight_momentums = self.beta_1 * layer.weight_momentums + (1 - self.beta_1) * layer.dweights\n",
    "        layer.bias_momentums = self.beta_1 * layer.bias_momentums + (1 - self.beta_1) * layer.dbiases\n",
    "\n",
    "\n",
    "\n",
    "        # Get corrected momentum\n",
    "        # self.iteration is 0 at first pass and we need to start with 1 here\n",
    "\n",
    "        weight_momentums_corrected = layer.weight_momentums / (1 - self.beta_1 ** (self.iterations + 1))\n",
    "        bias_momentums_corrected = layer.bias_momentums / (1 - self.beta_1 ** (self.iterations + 1))\n",
    "\n",
    "\n",
    "        # Update cache with squared current gradients\n",
    "        layer.weight_cache = self.beta_2 * layer.weight_cache + (1 - self.beta_2) * layer.dweights**2\n",
    "        layer.bias_cache = self.beta_2 * layer.bias_cache + (1 - self.beta_2) * layer.dbiases**2\n",
    "\n",
    "        \n",
    "        # Get corrected cache\n",
    "        weight_cache_corrected = layer.weight_cache / (1 - self.beta_2 ** (self.iterations + 1))\n",
    "        bias_cache_corrected = layer.bias_cache / (1 - self.beta_2 ** (self.iterations + 1))\n",
    "\n",
    "        \n",
    "        # Vanilla SGD parameter update + normalization with square rooted cache\n",
    "        layer.weights += -self.current_learning_rate * weight_momentums_corrected / (np.sqrt(weight_cache_corrected) + self.epsilon)\n",
    "        layer.biases += -self.current_learning_rate * bias_momentums_corrected / (np.sqrt(bias_cache_corrected) + self.epsilon)\n",
    "\n",
    "\n",
    "    \n",
    "    def post_update_params(self):\n",
    "        self.iterations += 1"
   ]
  },
  {
   "cell_type": "markdown",
   "id": "7d6b100c",
   "metadata": {
    "_cell_guid": "4202d05b-b516-42dc-9bf1-002396fbd204",
    "_uuid": "adbaaae4-80a3-46bd-8358-fced64ddad4e",
    "collapsed": false,
    "jupyter": {
     "outputs_hidden": false
    },
    "papermill": {
     "duration": 0.013264,
     "end_time": "2024-11-05T17:41:46.524973",
     "exception": false,
     "start_time": "2024-11-05T17:41:46.511709",
     "status": "completed"
    },
    "tags": []
   },
   "source": [
    "<div class=\"alert alert-block alert-danger\">\n",
    "\n",
    "\n",
    "\n",
    "DROPOUT LAYER: FORWARD AND BACKWARD PASS</div>"
   ]
  },
  {
   "cell_type": "code",
   "execution_count": 15,
   "id": "84783082",
   "metadata": {
    "_cell_guid": "cd493a6d-85b8-4de9-b50c-cdeaea1e25ba",
    "_uuid": "ca9f2dfd-3ea5-4f04-87fc-2d3fe007fe18",
    "collapsed": false,
    "execution": {
     "iopub.execute_input": "2024-11-05T17:41:46.555676Z",
     "iopub.status.busy": "2024-11-05T17:41:46.555265Z",
     "iopub.status.idle": "2024-11-05T17:41:46.562801Z",
     "shell.execute_reply": "2024-11-05T17:41:46.561665Z"
    },
    "jupyter": {
     "outputs_hidden": false
    },
    "papermill": {
     "duration": 0.025193,
     "end_time": "2024-11-05T17:41:46.565368",
     "exception": false,
     "start_time": "2024-11-05T17:41:46.540175",
     "status": "completed"
    },
    "tags": []
   },
   "outputs": [],
   "source": [
    "class Layer_Dropout:\n",
    "\n",
    "    def __init__(self, rate):\n",
    "\n",
    "        # Store the dropout rate, invert it to get the success rate\n",
    "        # For example, for a dropout of 0.1, we need a success rate of 0.9\n",
    "        self.rate = 1 - rate\n",
    "\n",
    "    def forward(self, inputs):\n",
    "\n",
    "        self.inputs = inputs\n",
    "\n",
    "        # Generate and save the scaled binary mask\n",
    "        self.binary_mask = np.random.binomial(1, self.rate, size=inputs.shape) / self.rate\n",
    "\n",
    "        # Apply mask to output values\n",
    "        self.output = inputs * self.binary_mask\n",
    "\n",
    "    def backward(self, dvalues):\n",
    "        self.dinputs = dvalues * self.binary_mask"
   ]
  },
  {
   "cell_type": "markdown",
   "id": "5d6b3658",
   "metadata": {
    "_cell_guid": "8d385f76-8308-4b88-8fed-d89e1f058117",
    "_uuid": "b8619832-79e5-4b77-b4e7-26005df07844",
    "collapsed": false,
    "jupyter": {
     "outputs_hidden": false
    },
    "papermill": {
     "duration": 0.013451,
     "end_time": "2024-11-05T17:41:46.592444",
     "exception": false,
     "start_time": "2024-11-05T17:41:46.578993",
     "status": "completed"
    },
    "tags": []
   },
   "source": [
    "<div class=\"alert alert-block alert-danger\">\n",
    "\n",
    "\n",
    "\n",
    "TRAINING THE NEURAL NETWORK</div>"
   ]
  },
  {
   "cell_type": "code",
   "execution_count": 16,
   "id": "9e0a2161",
   "metadata": {
    "_cell_guid": "852e405d-1f47-4fad-b34b-19bc0e59ee2c",
    "_uuid": "f4837adb-ce37-4510-bebd-cb930a7eb82b",
    "collapsed": false,
    "execution": {
     "iopub.execute_input": "2024-11-05T17:41:46.621678Z",
     "iopub.status.busy": "2024-11-05T17:41:46.621236Z",
     "iopub.status.idle": "2024-11-05T18:21:28.536337Z",
     "shell.execute_reply": "2024-11-05T18:21:28.534706Z"
    },
    "jupyter": {
     "outputs_hidden": false
    },
    "papermill": {
     "duration": 2381.983532,
     "end_time": "2024-11-05T18:21:28.589707",
     "exception": false,
     "start_time": "2024-11-05T17:41:46.606175",
     "status": "completed"
    },
    "tags": []
   },
   "outputs": [
    {
     "name": "stdout",
     "output_type": "stream",
     "text": [
      "epoch: 0, acc: 0.356, val_acc: 0.353, loss: 1.099 (data_loss: 1.099, reg_loss: 0.000), lr: 0.05\n",
      "epoch: 100, acc: 0.613, val_acc: 0.601, loss: 0.904 (data_loss: 0.874, reg_loss: 0.030), lr: 0.04975124378109454\n",
      "epoch: 200, acc: 0.622, val_acc: 0.616, loss: 0.850 (data_loss: 0.816, reg_loss: 0.033), lr: 0.04950495049504951\n",
      "epoch: 300, acc: 0.633, val_acc: 0.627, loss: 0.828 (data_loss: 0.797, reg_loss: 0.031), lr: 0.049261083743842374\n",
      "epoch: 400, acc: 0.646, val_acc: 0.625, loss: 0.817 (data_loss: 0.789, reg_loss: 0.029), lr: 0.049019607843137254\n",
      "epoch: 500, acc: 0.642, val_acc: 0.639, loss: 0.810 (data_loss: 0.784, reg_loss: 0.027), lr: 0.04878048780487806\n",
      "epoch: 600, acc: 0.647, val_acc: 0.641, loss: 0.806 (data_loss: 0.781, reg_loss: 0.025), lr: 0.048543689320388356\n",
      "epoch: 700, acc: 0.642, val_acc: 0.651, loss: 0.806 (data_loss: 0.783, reg_loss: 0.023), lr: 0.04830917874396136\n",
      "epoch: 800, acc: 0.639, val_acc: 0.657, loss: 0.810 (data_loss: 0.787, reg_loss: 0.022), lr: 0.04807692307692307\n",
      "epoch: 900, acc: 0.652, val_acc: 0.647, loss: 0.794 (data_loss: 0.773, reg_loss: 0.021), lr: 0.04784688995215312\n",
      "epoch: 1000, acc: 0.647, val_acc: 0.650, loss: 0.793 (data_loss: 0.773, reg_loss: 0.020), lr: 0.047619047619047616\n",
      "epoch: 1100, acc: 0.648, val_acc: 0.660, loss: 0.798 (data_loss: 0.778, reg_loss: 0.019), lr: 0.047393364928909956\n",
      "epoch: 1200, acc: 0.645, val_acc: 0.651, loss: 0.789 (data_loss: 0.770, reg_loss: 0.019), lr: 0.04716981132075471\n",
      "epoch: 1300, acc: 0.650, val_acc: 0.654, loss: 0.787 (data_loss: 0.769, reg_loss: 0.018), lr: 0.04694835680751174\n",
      "epoch: 1400, acc: 0.646, val_acc: 0.636, loss: 0.786 (data_loss: 0.768, reg_loss: 0.017), lr: 0.04672897196261683\n",
      "epoch: 1500, acc: 0.646, val_acc: 0.641, loss: 0.790 (data_loss: 0.773, reg_loss: 0.017), lr: 0.046511627906976744\n",
      "epoch: 1600, acc: 0.654, val_acc: 0.655, loss: 0.780 (data_loss: 0.764, reg_loss: 0.016), lr: 0.046296296296296294\n",
      "epoch: 1700, acc: 0.647, val_acc: 0.651, loss: 0.781 (data_loss: 0.765, reg_loss: 0.016), lr: 0.04608294930875576\n",
      "epoch: 1800, acc: 0.648, val_acc: 0.652, loss: 0.778 (data_loss: 0.762, reg_loss: 0.015), lr: 0.045871559633027525\n",
      "epoch: 1900, acc: 0.652, val_acc: 0.659, loss: 0.777 (data_loss: 0.762, reg_loss: 0.015), lr: 0.04566210045662101\n",
      "epoch: 2000, acc: 0.637, val_acc: 0.652, loss: 0.787 (data_loss: 0.773, reg_loss: 0.014), lr: 0.045454545454545456\n",
      "epoch: 2100, acc: 0.648, val_acc: 0.667, loss: 0.779 (data_loss: 0.764, reg_loss: 0.014), lr: 0.04524886877828055\n",
      "epoch: 2200, acc: 0.648, val_acc: 0.636, loss: 0.774 (data_loss: 0.761, reg_loss: 0.014), lr: 0.04504504504504504\n",
      "epoch: 2300, acc: 0.648, val_acc: 0.650, loss: 0.770 (data_loss: 0.757, reg_loss: 0.014), lr: 0.044843049327354265\n",
      "epoch: 2400, acc: 0.649, val_acc: 0.653, loss: 0.776 (data_loss: 0.763, reg_loss: 0.013), lr: 0.044642857142857144\n",
      "epoch: 2500, acc: 0.648, val_acc: 0.646, loss: 0.782 (data_loss: 0.769, reg_loss: 0.013), lr: 0.044444444444444446\n",
      "epoch: 2600, acc: 0.644, val_acc: 0.659, loss: 0.785 (data_loss: 0.772, reg_loss: 0.013), lr: 0.044247787610619475\n",
      "epoch: 2700, acc: 0.649, val_acc: 0.650, loss: 0.775 (data_loss: 0.763, reg_loss: 0.013), lr: 0.04405286343612335\n",
      "epoch: 2800, acc: 0.648, val_acc: 0.646, loss: 0.780 (data_loss: 0.768, reg_loss: 0.012), lr: 0.043859649122807015\n",
      "epoch: 2900, acc: 0.649, val_acc: 0.645, loss: 0.773 (data_loss: 0.761, reg_loss: 0.012), lr: 0.04366812227074236\n",
      "epoch: 3000, acc: 0.647, val_acc: 0.646, loss: 0.776 (data_loss: 0.764, reg_loss: 0.012), lr: 0.04347826086956522\n",
      "epoch: 3100, acc: 0.651, val_acc: 0.647, loss: 0.778 (data_loss: 0.766, reg_loss: 0.012), lr: 0.043290043290043295\n",
      "epoch: 3200, acc: 0.643, val_acc: 0.641, loss: 0.780 (data_loss: 0.769, reg_loss: 0.011), lr: 0.04310344827586207\n",
      "epoch: 3300, acc: 0.651, val_acc: 0.648, loss: 0.770 (data_loss: 0.758, reg_loss: 0.011), lr: 0.042918454935622324\n",
      "epoch: 3400, acc: 0.643, val_acc: 0.643, loss: 0.770 (data_loss: 0.759, reg_loss: 0.011), lr: 0.04273504273504274\n",
      "epoch: 3500, acc: 0.646, val_acc: 0.646, loss: 0.783 (data_loss: 0.773, reg_loss: 0.011), lr: 0.04255319148936171\n",
      "epoch: 3600, acc: 0.650, val_acc: 0.651, loss: 0.768 (data_loss: 0.758, reg_loss: 0.011), lr: 0.04237288135593221\n",
      "epoch: 3700, acc: 0.646, val_acc: 0.649, loss: 0.772 (data_loss: 0.761, reg_loss: 0.011), lr: 0.04219409282700422\n",
      "epoch: 3800, acc: 0.647, val_acc: 0.658, loss: 0.773 (data_loss: 0.763, reg_loss: 0.010), lr: 0.04201680672268908\n",
      "epoch: 3900, acc: 0.653, val_acc: 0.656, loss: 0.768 (data_loss: 0.757, reg_loss: 0.010), lr: 0.04184100418410042\n",
      "epoch: 4000, acc: 0.640, val_acc: 0.640, loss: 0.773 (data_loss: 0.763, reg_loss: 0.010), lr: 0.04166666666666667\n",
      "epoch: 4100, acc: 0.646, val_acc: 0.647, loss: 0.772 (data_loss: 0.762, reg_loss: 0.010), lr: 0.04149377593360996\n",
      "epoch: 4200, acc: 0.648, val_acc: 0.649, loss: 0.770 (data_loss: 0.760, reg_loss: 0.010), lr: 0.04132231404958678\n",
      "epoch: 4300, acc: 0.648, val_acc: 0.647, loss: 0.771 (data_loss: 0.761, reg_loss: 0.010), lr: 0.0411522633744856\n",
      "epoch: 4400, acc: 0.649, val_acc: 0.652, loss: 0.767 (data_loss: 0.757, reg_loss: 0.010), lr: 0.04098360655737705\n",
      "epoch: 4500, acc: 0.650, val_acc: 0.647, loss: 0.765 (data_loss: 0.756, reg_loss: 0.010), lr: 0.04081632653061224\n",
      "epoch: 4600, acc: 0.644, val_acc: 0.640, loss: 0.769 (data_loss: 0.759, reg_loss: 0.010), lr: 0.04065040650406504\n",
      "epoch: 4700, acc: 0.646, val_acc: 0.640, loss: 0.776 (data_loss: 0.766, reg_loss: 0.009), lr: 0.04048582995951417\n",
      "epoch: 4800, acc: 0.644, val_acc: 0.647, loss: 0.768 (data_loss: 0.758, reg_loss: 0.009), lr: 0.040322580645161296\n",
      "epoch: 4900, acc: 0.652, val_acc: 0.646, loss: 0.770 (data_loss: 0.761, reg_loss: 0.009), lr: 0.040160642570281124\n",
      "epoch: 5000, acc: 0.651, val_acc: 0.642, loss: 0.771 (data_loss: 0.762, reg_loss: 0.009), lr: 0.04000000000000001\n",
      "epoch: 5100, acc: 0.646, val_acc: 0.647, loss: 0.773 (data_loss: 0.764, reg_loss: 0.009), lr: 0.03984063745019921\n",
      "epoch: 5200, acc: 0.646, val_acc: 0.643, loss: 0.774 (data_loss: 0.765, reg_loss: 0.009), lr: 0.03968253968253968\n",
      "epoch: 5300, acc: 0.645, val_acc: 0.652, loss: 0.774 (data_loss: 0.765, reg_loss: 0.009), lr: 0.03952569169960474\n",
      "epoch: 5400, acc: 0.648, val_acc: 0.643, loss: 0.771 (data_loss: 0.762, reg_loss: 0.009), lr: 0.03937007874015748\n",
      "epoch: 5500, acc: 0.647, val_acc: 0.637, loss: 0.770 (data_loss: 0.762, reg_loss: 0.009), lr: 0.03921568627450981\n",
      "epoch: 5600, acc: 0.639, val_acc: 0.666, loss: 0.769 (data_loss: 0.760, reg_loss: 0.008), lr: 0.0390625\n",
      "epoch: 5700, acc: 0.647, val_acc: 0.645, loss: 0.767 (data_loss: 0.758, reg_loss: 0.008), lr: 0.038910505836575876\n",
      "epoch: 5800, acc: 0.648, val_acc: 0.650, loss: 0.766 (data_loss: 0.758, reg_loss: 0.008), lr: 0.03875968992248062\n",
      "epoch: 5900, acc: 0.649, val_acc: 0.644, loss: 0.769 (data_loss: 0.761, reg_loss: 0.008), lr: 0.038610038610038616\n",
      "epoch: 6000, acc: 0.646, val_acc: 0.639, loss: 0.766 (data_loss: 0.758, reg_loss: 0.008), lr: 0.038461538461538464\n",
      "epoch: 6100, acc: 0.642, val_acc: 0.658, loss: 0.768 (data_loss: 0.760, reg_loss: 0.008), lr: 0.03831417624521073\n",
      "epoch: 6200, acc: 0.646, val_acc: 0.648, loss: 0.769 (data_loss: 0.761, reg_loss: 0.008), lr: 0.03816793893129771\n",
      "epoch: 6300, acc: 0.648, val_acc: 0.646, loss: 0.765 (data_loss: 0.757, reg_loss: 0.008), lr: 0.038022813688212934\n",
      "epoch: 6400, acc: 0.649, val_acc: 0.648, loss: 0.773 (data_loss: 0.765, reg_loss: 0.008), lr: 0.03787878787878788\n",
      "epoch: 6500, acc: 0.645, val_acc: 0.649, loss: 0.773 (data_loss: 0.765, reg_loss: 0.008), lr: 0.03773584905660378\n",
      "epoch: 6600, acc: 0.651, val_acc: 0.643, loss: 0.774 (data_loss: 0.766, reg_loss: 0.008), lr: 0.03759398496240601\n",
      "epoch: 6700, acc: 0.648, val_acc: 0.640, loss: 0.762 (data_loss: 0.754, reg_loss: 0.008), lr: 0.03745318352059925\n",
      "epoch: 6800, acc: 0.646, val_acc: 0.647, loss: 0.772 (data_loss: 0.764, reg_loss: 0.008), lr: 0.03731343283582089\n",
      "epoch: 6900, acc: 0.647, val_acc: 0.643, loss: 0.768 (data_loss: 0.760, reg_loss: 0.008), lr: 0.03717472118959108\n",
      "epoch: 7000, acc: 0.646, val_acc: 0.647, loss: 0.769 (data_loss: 0.762, reg_loss: 0.007), lr: 0.037037037037037035\n",
      "epoch: 7100, acc: 0.649, val_acc: 0.639, loss: 0.767 (data_loss: 0.759, reg_loss: 0.007), lr: 0.03690036900369004\n",
      "epoch: 7200, acc: 0.652, val_acc: 0.642, loss: 0.764 (data_loss: 0.757, reg_loss: 0.007), lr: 0.03676470588235294\n",
      "epoch: 7300, acc: 0.647, val_acc: 0.651, loss: 0.765 (data_loss: 0.758, reg_loss: 0.007), lr: 0.03663003663003663\n",
      "epoch: 7400, acc: 0.649, val_acc: 0.649, loss: 0.762 (data_loss: 0.755, reg_loss: 0.007), lr: 0.03649635036496351\n",
      "epoch: 7500, acc: 0.651, val_acc: 0.646, loss: 0.762 (data_loss: 0.755, reg_loss: 0.007), lr: 0.03636363636363637\n",
      "epoch: 7600, acc: 0.646, val_acc: 0.640, loss: 0.766 (data_loss: 0.759, reg_loss: 0.007), lr: 0.03623188405797102\n",
      "epoch: 7700, acc: 0.650, val_acc: 0.644, loss: 0.764 (data_loss: 0.757, reg_loss: 0.007), lr: 0.03610108303249098\n",
      "epoch: 7800, acc: 0.650, val_acc: 0.643, loss: 0.766 (data_loss: 0.759, reg_loss: 0.007), lr: 0.03597122302158273\n",
      "epoch: 7900, acc: 0.649, val_acc: 0.649, loss: 0.783 (data_loss: 0.776, reg_loss: 0.007), lr: 0.035842293906810034\n",
      "epoch: 8000, acc: 0.646, val_acc: 0.648, loss: 0.768 (data_loss: 0.761, reg_loss: 0.007), lr: 0.03571428571428572\n",
      "epoch: 8100, acc: 0.646, val_acc: 0.656, loss: 0.772 (data_loss: 0.765, reg_loss: 0.007), lr: 0.03558718861209965\n",
      "epoch: 8200, acc: 0.647, val_acc: 0.644, loss: 0.768 (data_loss: 0.761, reg_loss: 0.007), lr: 0.035460992907801414\n",
      "epoch: 8300, acc: 0.649, val_acc: 0.644, loss: 0.765 (data_loss: 0.759, reg_loss: 0.007), lr: 0.0353356890459364\n",
      "epoch: 8400, acc: 0.646, val_acc: 0.648, loss: 0.767 (data_loss: 0.760, reg_loss: 0.007), lr: 0.035211267605633804\n",
      "epoch: 8500, acc: 0.650, val_acc: 0.645, loss: 0.769 (data_loss: 0.762, reg_loss: 0.007), lr: 0.03508771929824561\n",
      "epoch: 8600, acc: 0.649, val_acc: 0.643, loss: 0.767 (data_loss: 0.760, reg_loss: 0.007), lr: 0.03496503496503497\n",
      "epoch: 8700, acc: 0.646, val_acc: 0.648, loss: 0.772 (data_loss: 0.766, reg_loss: 0.007), lr: 0.03484320557491289\n",
      "epoch: 8800, acc: 0.647, val_acc: 0.651, loss: 0.767 (data_loss: 0.760, reg_loss: 0.007), lr: 0.034722222222222224\n",
      "epoch: 8900, acc: 0.644, val_acc: 0.644, loss: 0.768 (data_loss: 0.762, reg_loss: 0.006), lr: 0.03460207612456747\n",
      "epoch: 9000, acc: 0.645, val_acc: 0.645, loss: 0.766 (data_loss: 0.760, reg_loss: 0.006), lr: 0.03448275862068966\n",
      "epoch: 9100, acc: 0.647, val_acc: 0.650, loss: 0.760 (data_loss: 0.753, reg_loss: 0.006), lr: 0.03436426116838488\n",
      "epoch: 9200, acc: 0.648, val_acc: 0.638, loss: 0.770 (data_loss: 0.764, reg_loss: 0.006), lr: 0.03424657534246575\n",
      "epoch: 9300, acc: 0.649, val_acc: 0.635, loss: 0.762 (data_loss: 0.755, reg_loss: 0.006), lr: 0.034129692832764506\n",
      "epoch: 9400, acc: 0.651, val_acc: 0.646, loss: 0.759 (data_loss: 0.753, reg_loss: 0.006), lr: 0.034013605442176874\n",
      "epoch: 9500, acc: 0.646, val_acc: 0.645, loss: 0.763 (data_loss: 0.757, reg_loss: 0.006), lr: 0.03389830508474576\n",
      "epoch: 9600, acc: 0.648, val_acc: 0.645, loss: 0.763 (data_loss: 0.757, reg_loss: 0.006), lr: 0.033783783783783786\n",
      "epoch: 9700, acc: 0.644, val_acc: 0.635, loss: 0.768 (data_loss: 0.761, reg_loss: 0.006), lr: 0.03367003367003367\n",
      "epoch: 9800, acc: 0.654, val_acc: 0.642, loss: 0.759 (data_loss: 0.753, reg_loss: 0.006), lr: 0.03355704697986577\n",
      "epoch: 9900, acc: 0.647, val_acc: 0.651, loss: 0.768 (data_loss: 0.762, reg_loss: 0.006), lr: 0.033444816053511704\n",
      "epoch: 10000, acc: 0.647, val_acc: 0.637, loss: 0.769 (data_loss: 0.763, reg_loss: 0.006), lr: 0.03333333333333333\n"
     ]
    }
   ],
   "source": [
    "import numpy as np\n",
    "import matplotlib.pyplot as plt\n",
    "\n",
    "# Create dataset\n",
    "X, y = spiral_data(samples=config.train_samples, classes=config.num_classes)\n",
    "X_val, y_val = spiral_data(samples=config.validation_samples, classes=config.num_classes)\n",
    "\n",
    "# Create layers\n",
    "dense1 = Layer_Dense(config.input_dim, config.hidden_1_dim, weight_regularizer_l2=config.weight_regularizer_l2, bias_regularizer_l2=config.bias_regularizer_l2)\n",
    "activation1 = Activation_ReLU()\n",
    "\n",
    "dropout1 = Layer_Dropout(config.dropout_rate)\n",
    "\n",
    "dense2 = Layer_Dense(config.hidden_1_dim, config.num_classes)\n",
    "loss_activation = Activation_Softmax_Loss_CategoricalCrossentropy()\n",
    "optimizer = Optimizer_Adam(learning_rate=config.learning_rate, decay=config.decay)\n",
    "\n",
    "# Initialize lists to store training history\n",
    "loss_history = []\n",
    "train_acc_history = []\n",
    "val_acc_history = []\n",
    "lr_history = []\n",
    "\n",
    "# Train in loop\n",
    "for epoch in range(config.epochs):\n",
    "    # Perform a forward pass\n",
    "    dense1.forward(X)\n",
    "    activation1.forward(dense1.output)\n",
    "    dropout1.forward(activation1.output)\n",
    "    dense2.forward(dropout1.output)\n",
    "    data_loss = loss_activation.forward(dense2.output, y)\n",
    "\n",
    "    # Calculate regularization penalty\n",
    "    regularization_loss = loss_activation.loss.regularization_loss(dense1) + loss_activation.loss.regularization_loss(dense2)\n",
    "    loss = data_loss + regularization_loss\n",
    "\n",
    "    # Calculate accuracy\n",
    "    predictions = np.argmax(loss_activation.output, axis=1)\n",
    "    if len(y.shape) == 2:\n",
    "        y = np.argmax(y, axis=1)\n",
    "    train_accuracy = np.mean(predictions == y)\n",
    "\n",
    "    # Backward pass\n",
    "    loss_activation.backward(loss_activation.output, y)\n",
    "    dense2.backward(loss_activation.dinputs)\n",
    "    dropout1.backward(dense2.dinputs)\n",
    "    activation1.backward(dropout1.dinputs)\n",
    "    dense1.backward(activation1.dinputs)\n",
    "\n",
    "    # Update weights and biases\n",
    "    optimizer.pre_update_params()\n",
    "    optimizer.update_params(dense1)\n",
    "    optimizer.update_params(dense2)\n",
    "    optimizer.post_update_params()\n",
    "\n",
    "    # Log training progress\n",
    "    loss_history.append(loss)\n",
    "    train_acc_history.append(train_accuracy)\n",
    "    lr_history.append(optimizer.current_learning_rate)\n",
    "\n",
    "    if not epoch % config.log_step:\n",
    "        # Evaluate on validation set\n",
    "        dense1.forward(X_val)\n",
    "        activation1.forward(dense1.output)\n",
    "        dropout1.forward(activation1.output)\n",
    "        dense2.forward(dropout1.output)\n",
    "        val_loss = loss_activation.forward(dense2.output, y_val)\n",
    "        val_predictions = np.argmax(loss_activation.output, axis=1)\n",
    "        if len(y_val.shape) == 2:\n",
    "            y_val = np.argmax(y_val, axis=1)\n",
    "        val_accuracy = np.mean(val_predictions == y_val)\n",
    "        val_acc_history.append(val_accuracy)\n",
    "\n",
    "        print(f'epoch: {epoch}, ' +\n",
    "              f'acc: {train_accuracy:.3f}, ' +\n",
    "              f'val_acc: {val_accuracy:.3f}, ' +\n",
    "              f'loss: {loss:.3f} (' +\n",
    "              f'data_loss: {data_loss:.3f}, ' +\n",
    "              f'reg_loss: {regularization_loss:.3f}), ' +\n",
    "              f'lr: {optimizer.current_learning_rate}')"
   ]
  },
  {
   "cell_type": "code",
   "execution_count": 17,
   "id": "1331fe5f",
   "metadata": {
    "_cell_guid": "3e6137ae-957c-4c44-a6a1-b4f917556fb3",
    "_uuid": "89da1a0b-aad8-4691-90f3-8954b9c5e2eb",
    "collapsed": false,
    "execution": {
     "iopub.execute_input": "2024-11-05T18:21:28.672640Z",
     "iopub.status.busy": "2024-11-05T18:21:28.672187Z",
     "iopub.status.idle": "2024-11-05T18:21:28.696086Z",
     "shell.execute_reply": "2024-11-05T18:21:28.694385Z"
    },
    "jupyter": {
     "outputs_hidden": false
    },
    "papermill": {
     "duration": 0.056332,
     "end_time": "2024-11-05T18:21:28.700514",
     "exception": false,
     "start_time": "2024-11-05T18:21:28.644182",
     "status": "completed"
    },
    "tags": []
   },
   "outputs": [
    {
     "name": "stdout",
     "output_type": "stream",
     "text": [
      "validation, acc: 0.711, loss: 0.665\n"
     ]
    }
   ],
   "source": [
    "# Test the model\n",
    "\n",
    "X_test, y_test = spiral_data(samples=config.test_samples, classes=config.num_classes)\n",
    "\n",
    "\n",
    "dense1.forward(X_test)\n",
    "activation1.forward(dense1.output)\n",
    "dense2.forward(activation1.output)\n",
    "loss = loss_activation.forward(dense2.output, y_test)\n",
    "\n",
    "\n",
    "predictions = np.argmax(loss_activation.output, axis=1)\n",
    "\n",
    "if len(y_test.shape) == 2:\n",
    "    y_test = np.argmax(y_test, axis=1)\n",
    "\n",
    "\n",
    "accuracy = np.mean(predictions == y_test)\n",
    "print(f'validation, acc: {accuracy:.3f}, loss: {loss:.3f}')"
   ]
  },
  {
   "cell_type": "code",
   "execution_count": 18,
   "id": "7449a5cc",
   "metadata": {
    "_cell_guid": "8ed4ef91-67d1-413c-b179-2135b7448273",
    "_uuid": "3573c12d-22df-4b0b-8a43-957cec9a3418",
    "collapsed": false,
    "execution": {
     "iopub.execute_input": "2024-11-05T18:21:28.802733Z",
     "iopub.status.busy": "2024-11-05T18:21:28.801979Z",
     "iopub.status.idle": "2024-11-05T18:21:32.501435Z",
     "shell.execute_reply": "2024-11-05T18:21:32.500151Z"
    },
    "jupyter": {
     "outputs_hidden": false
    },
    "papermill": {
     "duration": 3.754132,
     "end_time": "2024-11-05T18:21:32.504579",
     "exception": false,
     "start_time": "2024-11-05T18:21:28.750447",
     "status": "completed"
    },
    "tags": []
   },
   "outputs": [
    {
     "data": {
      "image/png": "[encoded data removed]",
      "text/plain": [
       "<Figure size 800x600 with 2 Axes>"
      ]
     },
     "metadata": {},
     "output_type": "display_data"
    }
   ],
   "source": [
    "from sklearn.metrics import confusion_matrix , classification_report\n",
    "import seaborn as sns\n",
    "\n",
    "y_pred = np.argmax(loss_activation.output, axis=1)\n",
    "if len(y_test.shape) == 2:\n",
    "    y_test = np.argmax(y_test, axis=1)\n",
    "cm = confusion_matrix(y_test, y_pred)\n",
    "\n",
    "plt.figure(figsize=(8, 6))\n",
    "sns.heatmap(cm, annot=True, cmap='Blues', fmt='g')\n",
    "plt.xlabel('Predicted')\n",
    "plt.ylabel('Actual')\n",
    "plt.title('Test Confusion Matrix')\n",
    "plt.show()"
   ]
  },
  {
   "cell_type": "code",
   "execution_count": 19,
   "id": "68e8a76c",
   "metadata": {
    "_cell_guid": "cf486140-513f-4ecf-a914-10ff60ba1e3a",
    "_uuid": "d5099754-973a-485c-a8ed-167f50eab5f3",
    "collapsed": false,
    "execution": {
     "iopub.execute_input": "2024-11-05T18:21:32.555345Z",
     "iopub.status.busy": "2024-11-05T18:21:32.554718Z",
     "iopub.status.idle": "2024-11-05T18:21:32.576776Z",
     "shell.execute_reply": "2024-11-05T18:21:32.575373Z"
    },
    "jupyter": {
     "outputs_hidden": false
    },
    "papermill": {
     "duration": 0.050524,
     "end_time": "2024-11-05T18:21:32.579617",
     "exception": false,
     "start_time": "2024-11-05T18:21:32.529093",
     "status": "completed"
    },
    "tags": []
   },
   "outputs": [
    {
     "name": "stdout",
     "output_type": "stream",
     "text": [
      "Test Classification Report:\n",
      "              precision    recall  f1-score   support\n",
      "\n",
      "           0       0.67      0.50      0.57      2000\n",
      "           1       0.75      0.97      0.84      2000\n",
      "           2       0.70      0.66      0.68      2000\n",
      "\n",
      "    accuracy                           0.71      6000\n",
      "   macro avg       0.70      0.71      0.70      6000\n",
      "weighted avg       0.70      0.71      0.70      6000\n",
      "\n"
     ]
    }
   ],
   "source": [
    "print('Test Classification Report:')\n",
    "print(classification_report(y_test, y_pred))"
   ]
  },
  {
   "cell_type": "code",
   "execution_count": null,
   "id": "1d90e151",
   "metadata": {
    "_cell_guid": "ffc31f2c-6527-4139-ae4b-0e92c7bf7eaa",
    "_uuid": "cd38e7d2-2d8f-4685-940b-f16d328a644c",
    "collapsed": false,
    "jupyter": {
     "outputs_hidden": false
    },
    "papermill": {
     "duration": 0.026428,
     "end_time": "2024-11-05T18:21:32.630229",
     "exception": false,
     "start_time": "2024-11-05T18:21:32.603801",
     "status": "completed"
    },
    "tags": []
   },
   "outputs": [],
   "source": []
  }
 ],
 "metadata": {
  "kaggle": {
   "accelerator": "none",
   "dataSources": [],
   "dockerImageVersionId": 30786,
   "isGpuEnabled": false,
   "isInternetEnabled": true,
   "language": "python",
   "sourceType": "notebook"
  },
  "kernelspec": {
   "display_name": "Python 3",
   "language": "python",
   "name": "python3"
  },
  "language_info": {
   "codemirror_mode": {
    "name": "ipython",
    "version": 3
   },
   "file_extension": ".py",
   "mimetype": "text/x-python",
   "name": "python",
   "nbconvert_exporter": "python",
   "pygments_lexer": "ipython3",
   "version": "3.10.14"
  },
  "papermill": {
   "default_parameters": {},
   "duration": 2408.17914,
   "end_time": "2024-11-05T18:21:33.378807",
   "environment_variables": {},
   "exception": null,
   "input_path": "__notebook__.ipynb",
   "output_path": "__notebook__.ipynb",
   "parameters": {},
   "start_time": "2024-11-05T17:41:25.199667",
   "version": "2.6.0"
  }
 },
 "nbformat": 4,
 "nbformat_minor": 5
}
